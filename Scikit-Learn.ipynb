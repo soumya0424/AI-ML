{
 "cells": [
  {
   "cell_type": "markdown",
   "id": "895fc3a3",
   "metadata": {},
   "source": [
    "# Introduction to Scikit-Learn (sklearn)\n",
    "This notebook demonstrates some ofb the useful functions of the beautiful Scikit-Learn librabry."
   ]
  },
  {
   "cell_type": "markdown",
   "id": "ace65ef8",
   "metadata": {},
   "source": [
    "Index:\n",
    "* 0. An end-to-end Scikit-Learn workflow\n",
    "* 1. Getting the data ready\n",
    "* 2. Choose the right estimator/algorithm for problems\n",
    "* 3. Fit the model/algorithm and use it to make predictions on data\n",
    "* 4. Evaluating a model\n",
    "* 5. Improve a model\n",
    "* 6. Save and load a trained model\n",
    "* 7. Putting it all together"
   ]
  },
  {
   "cell_type": "markdown",
   "id": "b60a0fc2",
   "metadata": {},
   "source": [
    "##  0.An end-to-end Scikit-Learn workflow"
   ]
  },
  {
   "cell_type": "code",
   "execution_count": null,
   "id": "d2224d19",
   "metadata": {},
   "outputs": [],
   "source": []
  }
 ],
 "metadata": {
  "kernelspec": {
   "display_name": "Python 3 (ipykernel)",
   "language": "python",
   "name": "python3"
  },
  "language_info": {
   "codemirror_mode": {
    "name": "ipython",
    "version": 3
   },
   "file_extension": ".py",
   "mimetype": "text/x-python",
   "name": "python",
   "nbconvert_exporter": "python",
   "pygments_lexer": "ipython3",
   "version": "3.11.5"
  }
 },
 "nbformat": 4,
 "nbformat_minor": 5
}
