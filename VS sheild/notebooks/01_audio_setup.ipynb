{
 "cells": [
  {
   "cell_type": "code",
   "execution_count": 4,
   "id": "7d47da13-958e-477e-97f5-524222a5f90b",
   "metadata": {},
   "outputs": [
    {
     "name": "stdout",
     "output_type": "stream",
     "text": [
      "✅ All libraries imported successfully!\n"
     ]
    }
   ],
   "source": [
    "# Cell 1: Import Libraries\n",
    "import sounddevice as sd\n",
    "import numpy as np\n",
    "import matplotlib.pyplot as plt\n",
    "from scipy.io import wavfile\n",
    "import librosa\n",
    "import IPython.display as ipd\n",
    "from ipywidgets import interact, Button, Output, VBox, HBox\n",
    "import threading\n",
    "import queue\n",
    "import time\n",
    "\n",
    "print(\"✅ All libraries imported successfully!\")\n"
   ]
  },
  {
   "cell_type": "code",
   "execution_count": 7,
   "id": "8a54bb78-2bb7-43dd-b902-d168c1b3918b",
   "metadata": {},
   "outputs": [
    {
     "name": "stdout",
     "output_type": "stream",
     "text": [
      "Available audio devices:\n",
      "0: Microsoft Sound Mapper - Input  (inputs: 2, outputs: 0)\n",
      "1: Microphone Array (Intel® Smart   (inputs: 4, outputs: 0)\n",
      "2: Microsoft Sound Mapper - Output  (inputs: 0, outputs: 2)\n",
      "3: Speakers (Realtek(R) Audio)  (inputs: 0, outputs: 2)\n",
      "4: Primary Sound Capture Driver  (inputs: 2, outputs: 0)\n",
      "5: Microphone Array (Intel® Smart Sound Technology for Digital Microphones)  (inputs: 4, outputs: 0)\n",
      "6: Primary Sound Driver  (inputs: 0, outputs: 2)\n",
      "7: Speakers (Realtek(R) Audio)  (inputs: 0, outputs: 2)\n",
      "8: Speakers (Realtek(R) Audio)  (inputs: 0, outputs: 2)\n",
      "9: Microphone Array (Intel® Smart Sound Technology for Digital Microphones)  (inputs: 2, outputs: 0)\n",
      "10: Microphone (Realtek HD Audio Mic input)  (inputs: 2, outputs: 0)\n",
      "11: Headphones 1 (Realtek HD Audio 2nd output with SST)  (inputs: 0, outputs: 2)\n",
      "12: Headphones 2 (Realtek HD Audio 2nd output with SST)  (inputs: 0, outputs: 2)\n",
      "13: PC Speaker (Realtek HD Audio 2nd output with SST)  (inputs: 2, outputs: 0)\n",
      "14: Stereo Mix (Realtek HD Audio Stereo input)  (inputs: 2, outputs: 0)\n",
      "15: Speakers 1 (Realtek HD Audio output with SST)  (inputs: 0, outputs: 2)\n",
      "16: Speakers 2 (Realtek HD Audio output with SST)  (inputs: 0, outputs: 2)\n",
      "17: PC Speaker (Realtek HD Audio output with SST)  (inputs: 2, outputs: 0)\n",
      "18: Microphone Array 1 ()  (inputs: 2, outputs: 0)\n",
      "19: Microphone Array 2 ()  (inputs: 4, outputs: 0)\n",
      "20: Headphones ()  (inputs: 0, outputs: 2)\n",
      "21: Headset (@System32\\drivers\\bthhfenum.sys,#2;%1 Hands-Free%0\n",
      ";(OPPO Enco Buds2))  (inputs: 0, outputs: 1)\n",
      "22: Headset (@System32\\drivers\\bthhfenum.sys,#2;%1 Hands-Free%0\n",
      ";(OPPO Enco Buds2))  (inputs: 1, outputs: 0)\n",
      "23: Headset (@System32\\drivers\\bthhfenum.sys,#2;%1 Hands-Free%0\n",
      ";(OnePlus Nord Buds 3))  (inputs: 0, outputs: 1)\n",
      "24: Headset (@System32\\drivers\\bthhfenum.sys,#2;%1 Hands-Free%0\n",
      ";(OnePlus Nord Buds 3))  (inputs: 1, outputs: 0)\n",
      "25: Headphones ()  (inputs: 0, outputs: 2)\n",
      "26: Headphones ()  (inputs: 0, outputs: 2)\n",
      "27: Headset (@System32\\drivers\\bthhfenum.sys,#2;%1 Hands-Free%0\n",
      ";(Soumya’s AirPods))  (inputs: 0, outputs: 1)\n",
      "28: Headset (@System32\\drivers\\bthhfenum.sys,#2;%1 Hands-Free%0\n",
      ";(Soumya’s AirPods))  (inputs: 1, outputs: 0)\n",
      "\n",
      "Default Input Device:  1\n",
      "Default Output Device: [1, 3]\n"
     ]
    }
   ],
   "source": [
    "# Cell 2: Check Available Audio Devices\n",
    "\n",
    "import sounddevice as sd\n",
    "\n",
    "def show_audio_devices():\n",
    "    devices = sd.query_devices()\n",
    "    default_device = sd.default.device  # a tuple (input_index, output_index)\n",
    "    \n",
    "    print(\"Available audio devices:\")\n",
    "    for i, dev in enumerate(devices):\n",
    "        print(f\"{i}: {dev['name']}  (inputs: {dev['max_input_channels']}, outputs: {dev['max_output_channels']})\")\n",
    "    \n",
    "    print(f\"\\nDefault Input Device:  {default_device[0]}\")\n",
    "    print(f\"Default Output Device: {default_device}\")  # use index 1 instead of 39\n",
    "\n",
    "show_audio_devices()\n"
   ]
  },
  {
   "cell_type": "code",
   "execution_count": 8,
   "id": "9fdaf5b7-b154-4bde-9842-e34dd14f7d98",
   "metadata": {},
   "outputs": [
    {
     "name": "stdout",
     "output_type": "stream",
     "text": [
      "🎤 Recording for 3 seconds...\n",
      "✅ Recording completed!\n",
      "🔊 Playing back recording...\n"
     ]
    },
    {
     "data": {
      "image/png": "[encoded data removed]",
      "text/plain": [
       "<Figure size 1200x400 with 1 Axes>"
      ]
     },
     "metadata": {},
     "output_type": "display_data"
    }
   ],
   "source": [
    "# Cell 3: Test Microphone Recording\n",
    "class AudioRecorder:\n",
    "    def __init__(self, sample_rate=16000, channels=1):\n",
    "        self.sample_rate = sample_rate\n",
    "        self.channels = channels\n",
    "        self.recording = False\n",
    "        self.audio_data = []\n",
    "        \n",
    "    def record_audio(self, duration=3):\n",
    "        \"\"\"Record audio for specified duration\"\"\"\n",
    "        print(f\"🎤 Recording for {duration} seconds...\")\n",
    "        \n",
    "        try:\n",
    "            # Record audio\n",
    "            audio_data = sd.rec(\n",
    "                int(duration * self.sample_rate), \n",
    "                samplerate=self.sample_rate, \n",
    "                channels=self.channels,\n",
    "                dtype=np.float32\n",
    "            )\n",
    "            sd.wait()  # Wait until recording is finished\n",
    "            \n",
    "            print(\"✅ Recording completed!\")\n",
    "            return audio_data.flatten()\n",
    "            \n",
    "        except Exception as e:\n",
    "            print(f\"❌ Recording failed: {e}\")\n",
    "            print(\"💡 Make sure Terminal has microphone permissions!\")\n",
    "            return None\n",
    "\n",
    "# Test recording\n",
    "recorder = AudioRecorder()\n",
    "test_audio = recorder.record_audio(duration=3)\n",
    "\n",
    "if test_audio is not None:\n",
    "    # Play back the recording\n",
    "    print(\"🔊 Playing back recording...\")\n",
    "    sd.play(test_audio, recorder.sample_rate)\n",
    "    sd.wait()\n",
    "    \n",
    "    # Visualize the waveform\n",
    "    plt.figure(figsize=(12, 4))\n",
    "    time_axis = np.linspace(0, len(test_audio)/recorder.sample_rate, len(test_audio))\n",
    "    plt.plot(time_axis, test_audio)\n",
    "    plt.title(\"Recorded Audio Waveform\")\n",
    "    plt.xlabel(\"Time (seconds)\")\n",
    "    plt.ylabel(\"Amplitude\")\n",
    "    plt.show()\n"
   ]
  },
  {
   "cell_type": "code",
   "execution_count": null,
   "id": "b2cc0292-7d2d-49c3-be4e-a5bd458b7b1d",
   "metadata": {},
   "outputs": [],
   "source": []
  }
 ],
 "metadata": {
  "kernelspec": {
   "display_name": "Python 3 (ipykernel)",
   "language": "python",
   "name": "python3"
  },
  "language_info": {
   "codemirror_mode": {
    "name": "ipython",
    "version": 3
   },
   "file_extension": ".py",
   "mimetype": "text/x-python",
   "name": "python",
   "nbconvert_exporter": "python",
   "pygments_lexer": "ipython3",
   "version": "3.12.4"
  }
 },
 "nbformat": 4,
 "nbformat_minor": 5
}
