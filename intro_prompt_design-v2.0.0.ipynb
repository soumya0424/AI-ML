{
 "cells": [
  {
   "cell_type": "code",
   "execution_count": null,
   "metadata": {
    "id": "ur8xi4C7S06n"
   },
   "outputs": [],
   "source": [
    "# Copyright 2024 Google LLC\n",
    "#\n",
    "# Licensed under the Apache License, Version 2.0 (the \"License\");\n",
    "# you may not use this file except in compliance with the License.\n",
    "# You may obtain a copy of the License at\n",
    "#\n",
    "#     https://www.apache.org/licenses/LICENSE-2.0\n",
    "#\n",
    "# Unless required by applicable law or agreed to in writing, software\n",
    "# distributed under the License is distributed on an \"AS IS\" BASIS,\n",
    "# WITHOUT WARRANTIES OR CONDITIONS OF ANY KIND, either express or implied.\n",
    "# See the License for the specific language governing permissions and\n",
    "# limitations under the License."
   ]
  },
  {
   "cell_type": "markdown",
   "metadata": {
    "id": "JAPoU8Sm5E6e"
   },
   "source": [
    "# Prompt Design - Best Practices\n",
    "\n",
    "<table align=\"left\">\n",
    "  <td style=\"text-align: center\">\n",
    "    <a href=\"https://colab.research.google.com/github/GoogleCloudPlatform/generative-ai/blob/main/gemini/prompts/intro_prompt_design.ipynb\">\n",
    "      <img src=\"https://cloud.google.com/ml-engine/images/colab-logo-32px.png\" alt=\"Google Colaboratory logo\"><br> Open in Colab\n",
    "    </a>\n",
    "  </td>\n",
    "  <td style=\"text-align: center\">\n",
    "    <a href=\"https://console.cloud.google.com/vertex-ai/colab/import/https:%2F%2Fraw.githubusercontent.com%2FGoogleCloudPlatform%2Fgenerative-ai%2Fmain%2Fgemini%2Fprompts%2Fintro_prompt_design.ipynb\">\n",
    "      <img width=\"32px\" src=\"https://lh3.googleusercontent.com/JmcxdQi-qOpctIvWKgPtrzZdJJK-J3sWE1RsfjZNwshCFgE_9fULcNpuXYTilIR2hjwN\" alt=\"Google Cloud Colab Enterprise logo\"><br> Open in Colab Enterprise\n",
    "    </a>\n",
    "  </td>    \n",
    "  <td style=\"text-align: center\">\n",
    "    <a href=\"https://console.cloud.google.com/vertex-ai/workbench/deploy-notebook?download_url=https://raw.githubusercontent.com/GoogleCloudPlatform/generative-ai/main/gemini/prompts/intro_prompt_design.ipynb\">\n",
    "      <img src=\"https://lh3.googleusercontent.com/UiNooY4LUgW_oTvpsNhPpQzsstV5W8F7rYgxgGBD85cWJoLmrOzhVs_ksK_vgx40SHs7jCqkTkCk=e14-rj-sc0xffffff-h130-w32\" alt=\"Vertex AI logo\"><br> Open in Workbench\n",
    "    </a>\n",
    "  </td>\n",
    "  <td style=\"text-align: center\">\n",
    "    <a href=\"https://github.com/GoogleCloudPlatform/generative-ai/blob/main/gemini/prompts/intro_prompt_design.ipynb\">\n",
    "      <img src=\"https://cloud.google.com/ml-engine/images/github-logo-32px.png\" alt=\"GitHub logo\"><br> View on GitHub\n",
    "    </a>\n",
    "  </td>\n",
    "  <td style=\"text-align: center\">\n",
    "    <a href=\"https://goo.gle/4fWHlze\">\n",
    "      <img width=\"32px\" src=\"https://cdn.qwiklabs.com/assets/gcp_cloud-e3a77215f0b8bfa9b3f611c0d2208c7e8708ed31.svg\" alt=\"Google Cloud logo\"><br> Open in  Cloud Skills Boost\n",
    "    </a>\n",
    "  </td>\n",
    "</table>\n",
    "\n",
    "<div style=\"clear: both;\"></div>\n",
    "\n",
    "<b>Share to:</b>\n",
    "\n",
    "<a href=\"https://www.linkedin.com/sharing/share-offsite/?url=https%3A//github.com/GoogleCloudPlatform/generative-ai/blob/main/gemini/prompts/intro_prompt_design.ipynb\" target=\"_blank\">\n",
    "  <img width=\"20px\" src=\"https://upload.wikimedia.org/wikipedia/commons/8/81/LinkedIn_icon.svg\" alt=\"LinkedIn logo\">\n",
    "</a>\n",
    "\n",
    "<a href=\"https://bsky.app/intent/compose?text=https%3A//github.com/GoogleCloudPlatform/generative-ai/blob/main/gemini/prompts/intro_prompt_design.ipynb\" target=\"_blank\">\n",
    "  <img width=\"20px\" src=\"https://upload.wikimedia.org/wikipedia/commons/7/7a/Bluesky_Logo.svg\" alt=\"Bluesky logo\">\n",
    "</a>\n",
    "\n",
    "<a href=\"https://twitter.com/intent/tweet?url=https%3A//github.com/GoogleCloudPlatform/generative-ai/blob/main/gemini/prompts/intro_prompt_design.ipynb\" target=\"_blank\">\n",
    "  <img width=\"20px\" src=\"https://upload.wikimedia.org/wikipedia/commons/5/53/X_logo_2023_original.svg\" alt=\"X logo\">\n",
    "</a>\n",
    "\n",
    "<a href=\"https://reddit.com/submit?url=https%3A//github.com/GoogleCloudPlatform/generative-ai/blob/main/gemini/prompts/intro_prompt_design.ipynb\" target=\"_blank\">\n",
    "  <img width=\"20px\" src=\"https://redditinc.com/hubfs/Reddit%20Inc/Brand/Reddit_Logo.png\" alt=\"Reddit logo\">\n",
    "</a>\n",
    "\n",
    "<a href=\"https://www.facebook.com/sharer/sharer.php?u=https%3A//github.com/GoogleCloudPlatform/generative-ai/blob/main/gemini/prompts/intro_prompt_design.ipynb\" target=\"_blank\">\n",
    "  <img width=\"20px\" src=\"https://upload.wikimedia.org/wikipedia/commons/5/51/Facebook_f_logo_%282019%29.svg\" alt=\"Facebook logo\">\n",
    "</a>            "
   ]
  },
  {
   "cell_type": "markdown",
   "metadata": {
    "id": "84f0f73a0f76"
   },
   "source": [
    "| | |\n",
    "|-|-|\n",
    "|Author(s) | [Polong Lin](https://github.com/polong-lin), [Karl Weinmeister](https://github.com/kweinmeister) |"
   ]
  },
  {
   "cell_type": "markdown",
   "metadata": {
    "id": "tvgnzT1CKxrO"
   },
   "source": [
    "## Overview\n",
    "\n",
    "This notebook covers the essentials of prompt engineering, including some best practices.\n",
    "\n",
    "Learn more about prompt design in the [official documentation](https://cloud.google.com/vertex-ai/docs/generative-ai/text/text-overview).\n",
    "\n",
    "In this notebook, you learn best practices around prompt engineering -- how to design prompts to improve the quality of your responses.\n",
    "\n",
    "This notebook covers the following best practices for prompt engineering:\n",
    "\n",
    "- Be concise\n",
    "- Be specific and well-defined\n",
    "- Ask one task at a time\n",
    "- Turn generative tasks into classification tasks\n",
    "- Improve response quality by including examples"
   ]
  },
  {
   "cell_type": "markdown",
   "metadata": {
    "id": "61RBz8LLbxCR"
   },
   "source": [
    "## Getting Started"
   ]
  },
  {
   "cell_type": "markdown",
   "metadata": {
    "id": "No17Cw5hgx12"
   },
   "source": [
    "### Install Google Gen AI SDK\n"
   ]
  },
  {
   "cell_type": "code",
   "execution_count": 1,
   "metadata": {
    "id": "tFy3H3aPgx12",
    "tags": []
   },
   "outputs": [
    {
     "name": "stdout",
     "output_type": "stream",
     "text": [
      "Note: you may need to restart the kernel to use updated packages.\n"
     ]
    }
   ],
   "source": [
    "%pip install --upgrade --quiet google-genai"
   ]
  },
  {
   "cell_type": "markdown",
   "metadata": {
    "id": "R5Xep4W9lq-Z"
   },
   "source": [
    "### Restart runtime\n",
    "\n",
    "To use the newly installed packages in this Jupyter runtime, you must restart the runtime. You can do this by running the cell below, which will restart the current kernel."
   ]
  },
  {
   "cell_type": "code",
   "execution_count": 2,
   "metadata": {
    "id": "XRvKdaPDTznN",
    "tags": []
   },
   "outputs": [
    {
     "data": {
      "text/plain": [
       "{'status': 'ok', 'restart': True}"
      ]
     },
     "execution_count": 2,
     "metadata": {},
     "output_type": "execute_result"
    }
   ],
   "source": [
    "import IPython\n",
    "\n",
    "app = IPython.Application.instance()\n",
    "app.kernel.do_shutdown(True)"
   ]
  },
  {
   "cell_type": "markdown",
   "metadata": {
    "id": "SbmM4z7FOBpM"
   },
   "source": [
    "<div class=\"alert alert-block alert-warning\">\n",
    "<b>⚠️ The kernel is going to restart. Please wait until it is finished before continuing to the next step. ⚠️</b>\n",
    "</div>\n"
   ]
  },
  {
   "cell_type": "markdown",
   "metadata": {
    "id": "dmWOrTJ3gx13"
   },
   "source": [
    "### Authenticate your notebook environment (Colab only)\n",
    "\n",
    "Authenticate your environment on Google Colab.\n"
   ]
  },
  {
   "cell_type": "code",
   "execution_count": 1,
   "metadata": {
    "id": "NyKGtVQjgx13",
    "tags": []
   },
   "outputs": [],
   "source": [
    "import sys\n",
    "\n",
    "if \"google.colab\" in sys.modules:\n",
    "    from google.colab import auth\n",
    "\n",
    "    auth.authenticate_user()"
   ]
  },
  {
   "cell_type": "markdown",
   "metadata": {
    "id": "06489bd14f16"
   },
   "source": [
    "### Import libraries\n"
   ]
  },
  {
   "cell_type": "code",
   "execution_count": 2,
   "metadata": {
    "id": "154137022fb6",
    "tags": []
   },
   "outputs": [],
   "source": [
    "from IPython.display import Markdown, display\n",
    "from google import genai\n",
    "from google.genai.types import GenerateContentConfig"
   ]
  },
  {
   "cell_type": "markdown",
   "metadata": {
    "id": "DF4l8DTdWgPY"
   },
   "source": [
    "### Set Google Cloud project information and create client\n",
    "\n",
    "To get started using Vertex AI, you must have an existing Google Cloud project and [enable the Vertex AI API](https://console.cloud.google.com/flows/enableapi?apiid=aiplatform.googleapis.com).\n",
    "\n",
    "Learn more about [setting up a project and a development environment](https://cloud.google.com/vertex-ai/docs/start/cloud-environment)."
   ]
  },
  {
   "cell_type": "code",
   "execution_count": 3,
   "metadata": {
    "id": "Nqwi-5ufWp_B",
    "tags": []
   },
   "outputs": [],
   "source": [
    "import os\n",
    "\n",
    "PROJECT_ID = \"qwiklabs-gcp-04-ba71465f87e5\"  # @param {type: \"string\", placeholder: \"[your-project-id]\", isTemplate: true}\n",
    "if not PROJECT_ID or PROJECT_ID == \"[your-project-id]\":\n",
    "    PROJECT_ID = str(os.environ.get(\"GOOGLE_CLOUD_PROJECT\"))\n",
    "\n",
    "LOCATION = os.environ.get(\"GOOGLE_CLOUD_REGION\", \"us-east1\")"
   ]
  },
  {
   "cell_type": "code",
   "execution_count": 4,
   "metadata": {
    "id": "QqRWdPGmW3NJ",
    "tags": []
   },
   "outputs": [],
   "source": [
    "client = genai.Client(vertexai=True, project=PROJECT_ID, location=LOCATION)"
   ]
  },
  {
   "cell_type": "markdown",
   "metadata": {
    "id": "OnFPpCRtXRl4"
   },
   "source": [
    "### Load model\n",
    "\n",
    "Learn more about all [Gemini models on Vertex AI](https://cloud.google.com/vertex-ai/generative-ai/docs/learn/models#gemini-models)."
   ]
  },
  {
   "cell_type": "code",
   "execution_count": 5,
   "metadata": {
    "id": "IQYu_9SvXQah",
    "tags": []
   },
   "outputs": [],
   "source": [
    "MODEL_ID = \"gemini-2.0-flash-001\"  # @param {type: \"string\"}"
   ]
  },
  {
   "cell_type": "markdown",
   "metadata": {
    "id": "cVOtUNJ5X0PY"
   },
   "source": [
    "## Prompt engineering best practices"
   ]
  },
  {
   "cell_type": "markdown",
   "metadata": {
    "id": "uv_e0fEPX60q"
   },
   "source": [
    "Prompt engineering is all about how to design your prompts so that the response is what you were indeed hoping to see.\n",
    "\n",
    "The idea of using \"unfancy\" prompts is to minimize the noise in your prompt to reduce the possibility of the LLM misinterpreting the intent of the prompt. Below are a few guidelines on how to engineer \"unfancy\" prompts.\n",
    "\n",
    "In this section, you'll cover the following best practices when engineering prompts:\n",
    "\n",
    "* Be concise\n",
    "* Be specific, and well-defined\n",
    "* Ask one task at a time\n",
    "* Improve response quality by including examples\n",
    "* Turn generative tasks to classification tasks to improve safety"
   ]
  },
  {
   "cell_type": "markdown",
   "metadata": {
    "id": "0pY4XX0OX9_Y"
   },
   "source": [
    "### Be concise"
   ]
  },
  {
   "cell_type": "markdown",
   "metadata": {
    "id": "xlRpxyxGYA1K"
   },
   "source": [
    "🛑 Not recommended. The prompt below is unnecessarily verbose."
   ]
  },
  {
   "cell_type": "code",
   "execution_count": 6,
   "metadata": {
    "id": "YKV4G-CfXdbi",
    "tags": []
   },
   "outputs": [
    {
     "data": {
      "text/markdown": [
       "Here are some name ideas for a dried flower shop, playing on different aspects:\n",
       "\n",
       "**Emphasis on Dried & Lasting:**\n",
       "\n",
       "*   Lasting Blooms\n",
       "*   The Preserved Petal\n",
       "*   Forever Florals\n",
       "*   Dried & Defined\n",
       "*   Everlasting Arrangements\n",
       "*   The Eternal Bouquet\n",
       "*   The Dried Flower Atelier\n",
       "*   Immortal Blooms\n",
       "\n",
       "**Emphasis on Natural & Rustic:**\n",
       "\n",
       "*   The Wild Stem\n",
       "*   Prairie Petals\n",
       "*   Rustic Roots Florals\n",
       "*   The Dried Garden\n",
       "*   Earth & Bloom\n",
       "*   The Harvest Bloom\n",
       "\n",
       "**Emphasis on Artistic & Unique:**\n",
       "\n",
       "*   Petrified Petals\n",
       "*   The Floral Alchemist\n",
       "*   Curated Blooms\n",
       "*   The Still Life Florist\n",
       "*   Floral Echoes\n",
       "*   Whispers of Wildflowers\n",
       "*   Blooms in Time\n",
       "\n",
       "**Emphasis on Modern & Chic:**\n",
       "\n",
       "*   The Dry Bar Floral\n",
       "*   Dried & Dusted\n",
       "*   Bloom Haus\n",
       "*   The Botanical Edit\n",
       "*   The Modern Herbarium\n",
       "*   Petals & Pages\n",
       "\n",
       "**Wordplay & Clever Names:**\n",
       "\n",
       "*   The Undying Bouquet\n",
       "*   Pressed & Present\n",
       "*   The Second Bloom\n",
       "*   Floral Alchemy\n",
       "*   The Dry Spell (a bit cheeky!)\n",
       "\n",
       "**Tips for Choosing:**\n",
       "\n",
       "*   **Consider your target audience:** Are you aiming for a rustic, bohemian crowd, or a more modern, minimalist clientele?\n",
       "*   **Check for availability:** Make sure the name isn't already in use (especially locally) and that the domain name and social media handles are available.\n",
       "*   **Say it out loud:** Does it sound good? Is it easy to pronounce and remember?\n",
       "*   **Get feedback:** Ask friends, family, and potential customers what they think.\n",
       "\n",
       "Ultimately, the best name will be one that resonates with you and accurately reflects the style and ethos of your dried flower shop. Good luck!\n"
      ],
      "text/plain": [
       "<IPython.core.display.Markdown object>"
      ]
     },
     "metadata": {},
     "output_type": "display_data"
    }
   ],
   "source": [
    "prompt = \"What do you think could be a good name for a flower shop that specializes in selling bouquets of dried flowers more than fresh flowers?\"\n",
    "\n",
    "response = client.models.generate_content(model=MODEL_ID, contents=prompt)\n",
    "display(Markdown(response.text))"
   ]
  },
  {
   "cell_type": "markdown",
   "metadata": {
    "id": "YrJexRHJYnmC"
   },
   "source": [
    "✅ Recommended. The prompt below is to the point and concise."
   ]
  },
  {
   "cell_type": "code",
   "execution_count": 7,
   "metadata": {
    "id": "VHetn9lCYrXB",
    "tags": []
   },
   "outputs": [
    {
     "data": {
      "text/markdown": [
       "Okay, here are some name suggestions for a dried flower shop, playing with different vibes:\n",
       "\n",
       "**Elegant & Classic:**\n",
       "\n",
       "*   The Everbloom Studio\n",
       "*   Lasting Petals\n",
       "*   Preserved Posies\n",
       "*   The Dried Bloomery\n",
       "*   Fleur Sec\n",
       "*   Eternal Blooms\n",
       "*   Golden Harvest Flowers\n",
       "*   The Still Life Florist\n",
       "\n",
       "**Modern & Chic:**\n",
       "\n",
       "*   Dried & Dusted\n",
       "*   The Pressed Flower Co.\n",
       "*   Bloom Haus Dry\n",
       "*   Eternal Edit\n",
       "*   The Sustainable Stalk\n",
       "*   Gather & Dry\n",
       "*   Slow Blooms\n",
       "*   The Artful Stem\n",
       "\n",
       "**Whimsical & Earthy:**\n",
       "\n",
       "*   The Wildflower Wisp\n",
       "*   The Dusty Daisy\n",
       "*   Prairie Petals\n",
       "*   Sunbaked Blossoms\n",
       "*   The Lavender Lane\n",
       "*   The Rustic Bloom\n",
       "*   Dried Delights\n",
       "*   Wither & Wonder\n",
       "\n",
       "**Creative & Unique:**\n",
       "\n",
       "*   Chronos Blooms (Chronos relates to time)\n",
       "*   Botanical Echoes\n",
       "*   The Sleepy Poppy\n",
       "*   Amber Stems\n",
       "*   The Verdant Vault\n",
       "*   Second Bloom\n",
       "*   Ghost Flora\n",
       "*   Petrified Petals\n",
       "\n",
       "**Tips for Choosing:**\n",
       "\n",
       "*   **Consider Your Target Audience:** Are you aiming for a high-end clientele or a more casual, earthy vibe?\n",
       "*   **Check Availability:** Make sure the name isn't already in use (especially locally) and that you can get a domain name and social media handles.\n",
       "*   **Say It Out Loud:** Does it sound good? Is it easy to pronounce and remember?\n",
       "*   **Visual Appeal:** How will the name look in your logo and on your signage?\n",
       "\n",
       "To help me narrow down the suggestions, tell me:\n",
       "\n",
       "*   **What kind of style or aesthetic are you going for?** (e.g., modern, rustic, romantic, etc.)\n",
       "*   **What is your target customer?** (e.g., brides, home decorators, gift-givers)\n",
       "*   **Do you want the name to be short and catchy, or more descriptive?**\n",
       "*   **Are there any words or themes that you particularly like?**\n",
       "\n",
       "Good luck!\n"
      ],
      "text/plain": [
       "<IPython.core.display.Markdown object>"
      ]
     },
     "metadata": {},
     "output_type": "display_data"
    }
   ],
   "source": [
    "prompt = \"Suggest a name for a flower shop that sells bouquets of dried flowers\"\n",
    "\n",
    "response = client.models.generate_content(model=MODEL_ID, contents=prompt)\n",
    "display(Markdown(response.text))"
   ]
  },
  {
   "cell_type": "markdown",
   "metadata": {
    "id": "eXTAvdOHY0OC"
   },
   "source": [
    "### Be specific, and well-defined"
   ]
  },
  {
   "cell_type": "markdown",
   "metadata": {
    "id": "FTH4GEIgY1dp"
   },
   "source": [
    "Suppose that you want to brainstorm creative ways to describe Earth."
   ]
  },
  {
   "cell_type": "markdown",
   "metadata": {
    "id": "o5BmXBiGY4KC"
   },
   "source": [
    "🛑 The prompt below might be a bit too generic (which is certainly OK if you'd like to ask a generic question!)"
   ]
  },
  {
   "cell_type": "code",
   "execution_count": 8,
   "metadata": {
    "id": "eHBaMvv7Y6mR",
    "tags": []
   },
   "outputs": [
    {
     "data": {
      "text/markdown": [
       "Okay, let's dive into the amazing planet Earth! Here's a summary of key aspects:\n",
       "\n",
       "**Basic Facts:**\n",
       "\n",
       "*   **Name:** Earth (the only planet not named after a Greek or Roman god).\n",
       "*   **Type:** Terrestrial planet (rocky).\n",
       "*   **Position in the Solar System:** Third planet from the Sun.\n",
       "*   **Diameter:** Approximately 12,742 kilometers (7,918 miles).\n",
       "*   **Circumference:** Approximately 40,075 kilometers (24,901 miles).\n",
       "*   **Mass:** Approximately 5.97 x 10^24 kilograms.\n",
       "*   **Orbit:** Elliptical, average distance from the Sun is about 149.6 million kilometers (93 million miles), also known as 1 Astronomical Unit.\n",
       "*   **Rotation:** One rotation (a day) takes approximately 24 hours.\n",
       "*   **Revolution:** One revolution around the Sun (a year) takes approximately 365.25 days (hence leap years).\n",
       "*   **Atmosphere:** Primarily nitrogen (78%), oxygen (21%), and trace amounts of other gases, including argon, carbon dioxide, and water vapor.\n",
       "*   **Moons:** One natural satellite, the Moon (Luna).\n",
       "*   **Rings:** None.\n",
       "\n",
       "**Key Characteristics and Features:**\n",
       "\n",
       "*   **Liquid Water:**  The only known planet in our solar system with stable bodies of liquid water on its surface.  This is crucial for life as we know it. Oceans cover about 71% of the Earth's surface.\n",
       "*   **Life:** The only known planet to harbor life. It is teeming with an incredible diversity of organisms, from microscopic bacteria to giant whales.\n",
       "*   **Plate Tectonics:** Earth's outer layer is divided into tectonic plates that move and interact, causing earthquakes, volcanoes, and mountain formation.\n",
       "*   **Magnetic Field:** Generated by the movement of molten iron in the Earth's outer core. This magnetic field protects the planet from harmful solar radiation.\n",
       "*   **Atmosphere:** The atmosphere provides breathable air, regulates temperature, and shields us from harmful radiation. The ozone layer within the stratosphere absorbs most of the Sun's ultraviolet (UV) radiation.\n",
       "*   **Seasons:**  Caused by the tilt of Earth's axis of rotation (about 23.5 degrees) relative to its orbit around the Sun. This tilt causes different parts of the Earth to receive more direct sunlight at different times of the year.\n",
       "*   **Surface:** The Earth's surface is highly varied, including continents, mountains, valleys, plains, deserts, ice caps, and ocean basins.\n",
       "*   **Internal Structure:**\n",
       "    *   **Crust:**  The outermost solid layer, relatively thin (5-70 km).  Continental crust is thicker and less dense than oceanic crust.\n",
       "    *   **Mantle:** A thick, mostly solid layer extending down to about 2,900 km. The upper part of the mantle is partially molten (the asthenosphere) and allows the tectonic plates to move.\n",
       "    *   **Outer Core:** A liquid layer composed mostly of iron and nickel. The movement of this liquid is responsible for generating Earth's magnetic field.\n",
       "    *   **Inner Core:** A solid sphere composed mostly of iron and nickel, under immense pressure.\n",
       "*   **Climate:**  A complex system influenced by many factors, including the atmosphere, oceans, land surface, and solar radiation.  The Earth's climate is currently changing due to human activities, primarily the burning of fossil fuels, which releases greenhouse gases into the atmosphere.\n",
       "\n",
       "**Orbit and Rotation Details:**\n",
       "\n",
       "*   **Orbital Speed:** Earth travels around the Sun at an average speed of about 29.8 kilometers per second (67,000 miles per hour).\n",
       "*   **Axial Tilt:**  As mentioned before, the 23.5-degree axial tilt is crucial for seasons.\n",
       "*   **Sidereal Day:** The time it takes for Earth to rotate once with respect to the stars (about 23 hours, 56 minutes, 4 seconds). This is slightly shorter than a solar day (24 hours) because the Earth also moves along its orbit around the Sun during this time.\n",
       "\n",
       "**Interesting Facts:**\n",
       "\n",
       "*   Earth is not perfectly spherical; it's an oblate spheroid, meaning it's slightly flattened at the poles and bulges at the equator.\n",
       "*   The highest point on Earth is Mount Everest (8,848.86 meters/29,031.7 feet above sea level).\n",
       "*   The deepest point on Earth is the Mariana Trench in the Pacific Ocean (about 11,034 meters/36,201 feet below sea level).\n",
       "*   The Earth's atmosphere scatters blue light from the Sun more than other colors, which is why the sky appears blue.\n",
       "*   The Earth is constantly bombarded by meteoroids, but most burn up in the atmosphere before reaching the surface.\n",
       "\n",
       "**Why Earth is Special (As Far as We Know):**\n",
       "\n",
       "*   **Habitable Zone:** Earth orbits the Sun within the \"habitable zone\" (also known as the \"Goldilocks zone\"), where temperatures are just right for liquid water to exist on the surface.\n",
       "*   **Water:** The abundance of liquid water is a critical factor for life. Water acts as a solvent, a temperature regulator, and a key component of many biological processes.\n",
       "*   **Atmosphere and Magnetic Field:** These provide crucial protection from harmful radiation and maintain a stable climate.\n",
       "*   **Plate Tectonics:** While potentially destructive, plate tectonics also plays a role in regulating the Earth's climate over long periods by recycling carbon and other elements.\n",
       "\n",
       "**Ongoing Research and Exploration:**\n",
       "\n",
       "Scientists are constantly studying the Earth to better understand its processes, its history, and its future. This includes:\n",
       "\n",
       "*   Climate modeling to predict the impacts of climate change.\n",
       "*   Seismic studies to investigate the Earth's interior.\n",
       "*   Satellite observations to monitor the Earth's environment.\n",
       "*   Exploration of extreme environments (like deep-sea vents and polar regions) to discover new forms of life.\n",
       "\n",
       "I can delve into any of these topics in more detail if you'd like! Just let me know what you're most interested in. For instance, do you want to know more about climate change, plate tectonics, the Earth's interior, or something else?\n"
      ],
      "text/plain": [
       "<IPython.core.display.Markdown object>"
      ]
     },
     "metadata": {},
     "output_type": "display_data"
    }
   ],
   "source": [
    "prompt = \"Tell me about Earth\"\n",
    "\n",
    "response = client.models.generate_content(model=MODEL_ID, contents=prompt)\n",
    "display(Markdown(response.text))"
   ]
  },
  {
   "cell_type": "markdown",
   "metadata": {
    "id": "4iyvEbteZnFL"
   },
   "source": [
    "✅ Recommended. The prompt below is specific and well-defined."
   ]
  },
  {
   "cell_type": "code",
   "execution_count": 9,
   "metadata": {
    "id": "JQ80z8urZnne",
    "tags": []
   },
   "outputs": [
    {
     "data": {
      "text/markdown": [
       "Okay, here's a list of factors that make Earth unique compared to the other planets in our solar system (and, as far as we know, potentially unique in the universe, though we're still searching!):\n",
       "\n",
       "**Core Characteristics and Environment:**\n",
       "\n",
       "*   **Liquid Water on the Surface:** Earth is the only known planet in our solar system with a substantial amount of stable, liquid water on its surface. This is crucial for the type of life we know.\n",
       "*   **Oxygen-Rich Atmosphere:** Our atmosphere is approximately 21% oxygen, which is a byproduct of life (specifically, photosynthesis). Other planets have atmospheres, but not with such a high concentration of free oxygen.\n",
       "*   **Plate Tectonics:** Earth's lithosphere is divided into plates that move and interact. This process is responsible for continental drift, mountain building, earthquakes, and volcanoes, and is also thought to play a vital role in regulating the Earth's temperature and carbon cycle. While some evidence suggests past tectonic activity on other planets, Earth is the only one currently known to have active, widespread plate tectonics.\n",
       "*   **Strong Magnetic Field:** Generated by the Earth's molten iron core, the magnetic field deflects harmful solar wind and cosmic radiation, protecting the atmosphere and life. While other planets have magnetic fields, Earth's is particularly strong and complex.\n",
       "*   **Ozone Layer:** The ozone layer in the stratosphere absorbs most of the Sun's harmful ultraviolet (UV) radiation, making the surface habitable.\n",
       "*   **Relatively Stable Climate:** While Earth's climate has fluctuated over time, it has remained within a range that allows liquid water to exist and life to flourish. This stability is due to a complex interplay of factors, including the atmosphere, oceans, and feedback mechanisms.\n",
       "*   **Just the Right Distance from the Sun:** Earth orbits the Sun within the \"habitable zone\" (also known as the \"Goldilocks zone\"), where temperatures are suitable for liquid water to exist on the surface.\n",
       "\n",
       "**Life and Biodiversity:**\n",
       "\n",
       "*   **Abundance of Life:** Earth is the only known planet to harbor life. We have a vast and diverse biosphere, ranging from microscopic organisms to complex plants and animals.\n",
       "*   **Complex Ecosystems:** Earth's ecosystems are incredibly complex and interconnected, with intricate food webs and nutrient cycles.\n",
       "*   **Photosynthesis:** The process of photosynthesis, by which plants and algae convert sunlight into energy, is fundamental to life on Earth and has shaped the atmosphere.\n",
       "*   **Intelligent Life:** Earth is home to humans, the only known species to have developed advanced intelligence, technology, and culture.\n",
       "\n",
       "**Uniqueness Related to the Moon:**\n",
       "\n",
       "*   **Relatively Large Moon:** Earth has an unusually large moon compared to its size. The Moon is thought to have formed from a giant impact early in Earth's history.\n",
       "*   **Stabilizing Effect of the Moon:** The Moon's gravitational pull stabilizes Earth's axial tilt, preventing extreme climate variations. It also influences tides, which may have played a role in the evolution of life.\n",
       "\n",
       "**Other Considerations:**\n",
       "\n",
       "*   **Active Hydrological Cycle:** Earth has a complex and active hydrological cycle, with water constantly circulating between the oceans, atmosphere, and land. This cycle is essential for regulating climate and distributing nutrients.\n",
       "*   **Geological Activity:** Earth is geologically active, with volcanoes, earthquakes, and mountain building constantly reshaping the surface. This activity releases gases from the Earth's interior, which can affect the atmosphere and climate.\n",
       "*   **Presence of continents and oceans:** Other planets either have only land, or have a full ocean covering the planet.\n",
       "\n",
       "It's important to note that our understanding of other planets is constantly evolving. As we explore more of the solar system and beyond, we may discover other planets with some of these characteristics. However, the combination of all these factors is what makes Earth uniquely habitable and teeming with life.\n"
      ],
      "text/plain": [
       "<IPython.core.display.Markdown object>"
      ]
     },
     "metadata": {},
     "output_type": "display_data"
    }
   ],
   "source": [
    "prompt = \"Generate a list of ways that makes Earth unique compared to other planets\"\n",
    "\n",
    "response = client.models.generate_content(model=MODEL_ID, contents=prompt)\n",
    "display(Markdown(response.text))"
   ]
  },
  {
   "cell_type": "markdown",
   "metadata": {
    "id": "R5kmfZYHZsJ7"
   },
   "source": [
    "### Ask one task at a time"
   ]
  },
  {
   "cell_type": "markdown",
   "metadata": {
    "id": "rsAezxeYZuUN"
   },
   "source": [
    "🛑 Not recommended. The prompt below has two parts to the question that could be asked separately."
   ]
  },
  {
   "cell_type": "code",
   "execution_count": 10,
   "metadata": {
    "id": "ElywPXpuZtWf",
    "tags": []
   },
   "outputs": [
    {
     "data": {
      "text/markdown": [
       "Okay, let's tackle these two very different questions:\n",
       "\n",
       "**Best Method of Boiling Water:**\n",
       "\n",
       "There's no single \"best\" method in every situation, as it depends on factors like:\n",
       "\n",
       "*   **Speed:** How quickly do you need the water to boil?\n",
       "*   **Energy Efficiency:** How much energy (electricity, gas, etc.) are you willing to use?\n",
       "*   **Convenience:** How easy is the method to use and clean up?\n",
       "*   **Location:** Where are you boiling the water (at home, camping, etc.)?\n",
       "*   **Volume:** How much water are you boiling?\n",
       "\n",
       "With that in mind, here's a breakdown of common methods:\n",
       "\n",
       "1.  **Electric Kettle:**\n",
       "    *   **Pros:** Very fast, energy-efficient (especially variable-temperature kettles that only heat to the desired temperature), convenient, and usually has auto shut-off for safety.\n",
       "    *   **Cons:** Requires electricity. Can only boil a limited amount of water.\n",
       "    *   **Best for:** Most everyday situations at home when you need hot water quickly for tea, coffee, cooking, etc.\n",
       "    *   **Why it's often considered the \"best\" for home use:** Excellent balance of speed, efficiency, and convenience.\n",
       "\n",
       "2.  **Stovetop Kettle (on a gas or electric stove):**\n",
       "    *   **Pros:** Versatile (works on gas or electric), no electricity needed for the kettle itself (stove still needs gas/electricity), can boil larger volumes of water than electric kettles.\n",
       "    *   **Cons:** Can be slower than an electric kettle, less energy-efficient (heat is lost around the kettle), requires more monitoring to prevent boiling dry.\n",
       "    *   **Best for:** When you need a larger volume of boiled water, or when you don't have easy access to an electrical outlet (e.g., gas stove).\n",
       "\n",
       "3.  **Microwave:**\n",
       "    *   **Pros:** Fast, can boil small amounts of water quickly.\n",
       "    *   **Cons:** Can be uneven heating (superheating, where the water is hotter than its boiling point but doesn't bubble, leading to potential sudden eruptions), less energy-efficient than an electric kettle, not ideal for large volumes. Doesn't work with metal containers.\n",
       "    *   **Best for:** Very small amounts of water when speed is paramount, and you don't mind the risk of superheating (use a microwave-safe container and a stirring device).\n",
       "\n",
       "4.  **Pot on a Stove:**\n",
       "    *   **Pros:** Versatile (works on any stovetop), can boil any volume of water (as long as the pot is large enough), good for cooking.\n",
       "    *   **Cons:** Slower than a kettle, less energy-efficient (more surface area for heat loss), requires monitoring.\n",
       "    *   **Best for:** When you need to boil water as part of a larger cooking process (e.g., boiling pasta).\n",
       "\n",
       "5.  **Camping Stove/Portable Cooker:**\n",
       "    *   **Pros:** Useful outdoors or in situations without a kitchen. Uses gas or other fuel sources.\n",
       "    *   **Cons:** Can be less efficient than indoor methods, requires fuel, and may take some practice to use safely.\n",
       "    *   **Best for:** Camping, outdoor activities, or emergency situations.\n",
       "\n",
       "**In summary:**\n",
       "\n",
       "*   **For most home use, an electric kettle is often the best balance of speed, efficiency, and convenience.**\n",
       "*   Consider your specific needs and priorities when choosing the method.\n",
       "\n",
       "**Why the Sky is Blue:**\n",
       "\n",
       "The sky is blue due to a phenomenon called **Rayleigh scattering**. Here's the breakdown:\n",
       "\n",
       "1.  **Sunlight:** Sunlight is made up of all the colors of the rainbow.\n",
       "\n",
       "2.  **Entering the Atmosphere:** As sunlight enters the Earth's atmosphere, it collides with tiny air molecules (mostly nitrogen and oxygen).\n",
       "\n",
       "3.  **Scattering:** These collisions cause the sunlight to scatter in different directions.  Shorter wavelengths of light (blue and violet) are scattered *much* more strongly than longer wavelengths (red and orange). This is because the amount of scattering is inversely proportional to the fourth power of the wavelength (Rayleigh scattering law).\n",
       "\n",
       "4.  **Blue Dominance:**  Violet light is scattered even more than blue light. However, the sun emits less violet light than blue light, and our eyes are also more sensitive to blue. As a result, we perceive the sky as blue.\n",
       "\n",
       "5.  **Sunsets/Sunrises:**  At sunrise and sunset, the sunlight has to travel through a much greater distance of the atmosphere. By the time it reaches our eyes, much of the blue light has already been scattered away. The longer wavelengths (red and orange) are less scattered, so they dominate the sky, creating the beautiful red and orange hues we see.\n",
       "\n",
       "**In simpler terms:**\n",
       "\n",
       "Imagine throwing a bunch of different sized balls at a group of obstacles. The smaller balls (blue light) will bounce off more easily in all directions than the bigger balls (red light). Because the small balls bounce around everywhere, you see them coming from all directions - hence the blue sky. When you're further away (sunset), the small balls have bounced around so much they're mostly gone, and you only see the big balls coming straight at you - hence the red sunset.\n"
      ],
      "text/plain": [
       "<IPython.core.display.Markdown object>"
      ]
     },
     "metadata": {},
     "output_type": "display_data"
    }
   ],
   "source": [
    "prompt = \"What's the best method of boiling water and why is the sky blue?\"\n",
    "\n",
    "response = client.models.generate_content(model=MODEL_ID, contents=prompt)\n",
    "display(Markdown(response.text))"
   ]
  },
  {
   "cell_type": "markdown",
   "metadata": {
    "id": "ejzahazBZ8vk"
   },
   "source": [
    "✅ Recommended. The prompts below asks one task a time."
   ]
  },
  {
   "cell_type": "code",
   "execution_count": 11,
   "metadata": {
    "id": "C5ckp2F0Z_Ba",
    "tags": []
   },
   "outputs": [
    {
     "data": {
      "text/markdown": [
       "The \"best\" method of boiling water depends on what you prioritize. Here's a breakdown of common methods and their pros and cons:\n",
       "\n",
       "**1. Electric Kettle:**\n",
       "\n",
       "*   **Pros:**\n",
       "    *   **Speed:** Generally the fastest method, especially for smaller quantities.\n",
       "    *   **Convenience:**  Easy to use, often with automatic shut-off features.\n",
       "    *   **Energy Efficiency:**  Efficient for boiling small amounts as they only heat the water.\n",
       "    *   **Safety:** Many have automatic shut-off and boil-dry protection.\n",
       "    *   **Temperature Control:** Some kettles offer temperature settings for specific uses (e.g., different types of tea).\n",
       "*   **Cons:**\n",
       "    *   **Capacity:** Usually limited to a few cups.\n",
       "    *   **Space:** Requires counter space.\n",
       "    *   **Reliance on Electricity:** Won't work without power.\n",
       "    *   **Cost:** Initial cost can be higher than stovetop kettles.\n",
       "    *   **Mineral Buildup:** Can be prone to mineral buildup (descaling is necessary).\n",
       "    *   **Plastic Concerns:** Some have plastic components in contact with water, which may leach chemicals (look for stainless steel or glass options).\n",
       "\n",
       "**2. Stovetop Kettle:**\n",
       "\n",
       "*   **Pros:**\n",
       "    *   **Capacity:** Can boil larger quantities of water.\n",
       "    *   **Durability:**  Often very durable and long-lasting.\n",
       "    *   **No Electricity Needed (unless you have an electric stovetop):** Works on gas, electric, or induction stoves.\n",
       "    *   **Cost:** Generally less expensive than electric kettles.\n",
       "    *   **Classic Charm:** Some people appreciate the traditional aesthetic.\n",
       "*   **Cons:**\n",
       "    *   **Speed:** Slower than electric kettles.\n",
       "    *   **Monitoring Required:** Requires more attention to avoid boiling dry or whistling too loudly.\n",
       "    *   **Energy Efficiency:** Less efficient than electric kettles for small amounts, as you're heating the entire stovetop.\n",
       "    *   **Safety:** Requires more caution, as the kettle and stovetop can get very hot.\n",
       "\n",
       "**3. Microwave:**\n",
       "\n",
       "*   **Pros:**\n",
       "    *   **Speed:** Can be faster than a stovetop kettle for small quantities.\n",
       "    *   **Convenience:** Easy to use.\n",
       "*   **Cons:**\n",
       "    *   **Uneven Heating:** Water can heat unevenly, potentially causing \"superheating\" (where the water doesn't boil visibly, but then erupts violently when disturbed).  This can be dangerous.  Always use a microwave-safe container and place a microwave-safe object (like a chopstick or wooden spoon) in the water while heating to prevent superheating.\n",
       "    *   **Taste:** Some people believe microwaved water tastes different.\n",
       "    *   **Safety:** Higher risk of burns due to superheating.\n",
       "    *   **Not Recommended for large amounts:** Best for small quantities only.\n",
       "\n",
       "**4. Stovetop Pot:**\n",
       "\n",
       "*   **Pros:**\n",
       "    *   **Flexibility:**  Can boil any quantity of water.\n",
       "    *   **No Special Equipment Needed:**  You likely already own a pot.\n",
       "*   **Cons:**\n",
       "    *   **Slowest Method:**  Takes the longest time to boil.\n",
       "    *   **Monitoring Required:**  Requires attention to avoid boiling dry.\n",
       "    *   **Energy Inefficiency:**  Heating a large pot of water is energy-intensive.\n",
       "\n",
       "**Summary Table:**\n",
       "\n",
       "| Method        | Speed   | Convenience | Energy Efficiency | Safety     | Cost    | Best For...                                        |\n",
       "|---------------|---------|--------------|-------------------|------------|---------|---------------------------------------------------|\n",
       "| Electric Kettle | Fastest | Very High    | High              | High       | Medium  | Small amounts, quick boiling, temperature control |\n",
       "| Stovetop Kettle| Medium  | Medium       | Medium              | Medium     | Low     | Larger amounts, durability, traditional feel        |\n",
       "| Microwave     | Fast    | High        | Low              | Low        | Very Low| Very small amounts, quick fix (with caution)     |\n",
       "| Stovetop Pot  | Slowest | Low          | Lowest             | Medium     | Very Low| Large amounts when other options are unavailable     |\n",
       "\n",
       "**Therefore, the \"best\" method depends on your needs:**\n",
       "\n",
       "*   **For speed and convenience, especially for small amounts (1-3 cups), an electric kettle is generally the best choice.** Look for models with temperature control if you need specific water temperatures (e.g., for tea).\n",
       "\n",
       "*   **For larger quantities or if you don't have access to electricity, a stovetop kettle is a good option.**\n",
       "\n",
       "*   **Avoid using the microwave unless absolutely necessary due to the risk of superheating.** If you do, take precautions.\n",
       "\n",
       "*   **A stovetop pot is a viable option, but it's the slowest and least efficient.**\n"
      ],
      "text/plain": [
       "<IPython.core.display.Markdown object>"
      ]
     },
     "metadata": {},
     "output_type": "display_data"
    }
   ],
   "source": [
    "prompt = \"What's the best method of boiling water?\"\n",
    "\n",
    "response = client.models.generate_content(model=MODEL_ID, contents=prompt)\n",
    "display(Markdown(response.text))"
   ]
  },
  {
   "cell_type": "code",
   "execution_count": 12,
   "metadata": {
    "id": "KwUzhud4aA89",
    "tags": []
   },
   "outputs": [
    {
     "data": {
      "text/markdown": [
       "The sky is blue due to a phenomenon called **Rayleigh scattering**. Here's a breakdown of the process:\n",
       "\n",
       "*   **Sunlight enters the Earth's atmosphere:** Sunlight is made up of all the colors of the rainbow.\n",
       "\n",
       "*   **Sunlight collides with air molecules:** When sunlight enters the Earth's atmosphere, it collides with tiny air molecules (mostly nitrogen and oxygen).\n",
       "\n",
       "*   **Scattering of light:** This collision causes the sunlight to scatter in different directions.\n",
       "\n",
       "*   **Rayleigh scattering and wavelength:**  Rayleigh scattering is more effective at scattering shorter wavelengths of light. Blue and violet light have shorter wavelengths than other colors like red, orange, and yellow.\n",
       "\n",
       "*   **Blue dominates:**  While violet light has the shortest wavelength, the sun emits less violet light, and our eyes are also less sensitive to it. As a result, blue light is scattered more effectively and more noticeably than violet.\n",
       "\n",
       "*   **Our perception:** Therefore, when we look up at the sky, we see the scattered blue light coming from all directions. This is why the sky appears blue.\n",
       "\n",
       "**In summary:** The sky is blue because air molecules scatter blue light from the sun more effectively than other colors.\n",
       "\n",
       "**Why is the sunset red?**\n",
       "\n",
       "At sunrise and sunset, the sunlight has to travel through more of the Earth's atmosphere to reach our eyes. This longer path means that most of the blue light is scattered away before it reaches us. As a result, the longer wavelengths of light, like red and orange, are able to pass through and dominate what we see, making the sky appear reddish.\n"
      ],
      "text/plain": [
       "<IPython.core.display.Markdown object>"
      ]
     },
     "metadata": {},
     "output_type": "display_data"
    }
   ],
   "source": [
    "prompt = \"Why is the sky blue?\"\n",
    "\n",
    "response = client.models.generate_content(model=MODEL_ID, contents=prompt)\n",
    "display(Markdown(response.text))"
   ]
  },
  {
   "cell_type": "markdown",
   "metadata": {
    "id": "PJIL2RTQaGcT"
   },
   "source": [
    "### Watch out for hallucinations"
   ]
  },
  {
   "cell_type": "markdown",
   "metadata": {
    "id": "8Y8kYxrSaHE9"
   },
   "source": [
    "Although LLMs have been trained on a large amount of data, they can generate text containing statements not grounded in truth or reality; these responses from the LLM are often referred to as \"hallucinations\" due to their limited memorization capabilities. Note that simply prompting the LLM to provide a citation isn't a fix to this problem, as there are instances of LLMs providing false or inaccurate citations. Dealing with hallucinations is a fundamental challenge of LLMs and an ongoing research area, so it is important to be cognizant that LLMs may seem to give you confident, correct-sounding statements that are in fact incorrect.\n",
    "\n",
    "Note that if you intend to use LLMs for the creative use cases, hallucinating could actually be quite useful."
   ]
  },
  {
   "cell_type": "markdown",
   "metadata": {
    "id": "8NY5nAGeaJYS"
   },
   "source": [
    "Try the prompt like the one below repeatedly. We set the temperature to `1.0` so that it takes more risks in its choices. It's possible that it may provide an inaccurate, but confident answer."
   ]
  },
  {
   "cell_type": "code",
   "execution_count": 13,
   "metadata": {
    "id": "QALPjEILaM62",
    "tags": []
   },
   "outputs": [
    {
     "data": {
      "text/markdown": [
       "Today is Friday, May 3, 2024.\n"
      ],
      "text/plain": [
       "<IPython.core.display.Markdown object>"
      ]
     },
     "metadata": {},
     "output_type": "display_data"
    }
   ],
   "source": [
    "generation_config = GenerateContentConfig(temperature=1.0)\n",
    "\n",
    "prompt = \"What day is it today?\"\n",
    "\n",
    "response = client.models.generate_content(model=MODEL_ID, contents=prompt)\n",
    "display(Markdown(response.text))"
   ]
  },
  {
   "cell_type": "markdown",
   "metadata": {
    "id": "BRkwzbgRbhKt"
   },
   "source": [
    "Since LLMs do not have access to real-time information without further integrations, you may have noticed it hallucinates what day it is today in some of the outputs."
   ]
  },
  {
   "cell_type": "markdown",
   "metadata": {},
   "source": [
    "## Reduce Output Variability"
   ]
  },
  {
   "cell_type": "markdown",
   "metadata": {
    "id": "3c811e310d02"
   },
   "source": [
    "### Using system instructions to guardrail the model from irrelevant responses\n",
    "\n",
    "How can we attempt to reduce the chances of irrelevant responses and hallucinations?\n",
    "\n",
    "One way is to provide the LLM with [system instructions](https://cloud.google.com/vertex-ai/generative-ai/docs/multimodal/send-chat-prompts-gemini#system-instructions).\n",
    "\n",
    "Let's see how system instructions works and how you can use them to reduce hallucinations or irrelevant questions for a travel chatbot.\n",
    "\n",
    "Suppose we ask a simple question about one of Italy's most famous tourist spots."
   ]
  },
  {
   "cell_type": "code",
   "execution_count": 14,
   "metadata": {
    "id": "rB6zJU76biFK",
    "tags": []
   },
   "outputs": [
    {
     "data": {
      "text/markdown": [
       "The best place for sightseeing in Milan is Piazza del Duomo. It is home to the iconic Duomo di Milano, Galleria Vittorio Emanuele II, and several museums.\n"
      ],
      "text/plain": [
       "<IPython.core.display.Markdown object>"
      ]
     },
     "metadata": {},
     "output_type": "display_data"
    }
   ],
   "source": [
    "generation_config = GenerateContentConfig(temperature=1.0)\n",
    "\n",
    "chat = client.chats.create(\n",
    "    model=MODEL_ID,\n",
    "    config=GenerateContentConfig(\n",
    "        system_instruction=[\n",
    "            \"Hello! You are an AI chatbot for a travel web site.\",\n",
    "            \"Your mission is to provide helpful queries for travelers.\",\n",
    "            \"Remember that before you answer a question, you must check to see if it complies with your mission.\",\n",
    "            \"If not, you can say, Sorry I can't answer that question.\",\n",
    "        ]\n",
    "    ),\n",
    ")\n",
    "\n",
    "prompt = \"What is the best place for sightseeing in Milan, Italy?\"\n",
    "\n",
    "response = chat.send_message(prompt)\n",
    "display(Markdown(response.text))"
   ]
  },
  {
   "cell_type": "markdown",
   "metadata": {
    "id": "WZa-Qcf9cF4A"
   },
   "source": [
    "Now let us pretend to be a user asks the chatbot a question that is unrelated to travel."
   ]
  },
  {
   "cell_type": "code",
   "execution_count": 15,
   "metadata": {
    "id": "AZKBIDr2cGnu",
    "tags": []
   },
   "outputs": [
    {
     "data": {
      "text/markdown": [
       "The best place for sightseeing in Milan is Piazza del Duomo. It is home to the iconic Duomo di Milano, Galleria Vittorio Emanuele II, and several museums.\n"
      ],
      "text/plain": [
       "<IPython.core.display.Markdown object>"
      ]
     },
     "metadata": {},
     "output_type": "display_data"
    }
   ],
   "source": [
    "prompt = \"What is the best place for sightseeing in Milan, Italy?\"\n",
    "\n",
    "response = chat.send_message(prompt)\n",
    "display(Markdown(response.text))"
   ]
  },
  {
   "cell_type": "markdown",
   "metadata": {
    "id": "JiUYIhwpctCy"
   },
   "source": [
    "You can see that this way, a guardrail in the prompt prevented the chatbot from veering off course."
   ]
  },
  {
   "cell_type": "markdown",
   "metadata": {
    "id": "ZuuDhA37cvmP"
   },
   "source": [
    "### Turn generative tasks into classification tasks to reduce output variability"
   ]
  },
  {
   "cell_type": "markdown",
   "metadata": {
    "id": "kUCUrsUzczmb"
   },
   "source": [
    "#### Generative tasks lead to higher output variability"
   ]
  },
  {
   "cell_type": "markdown",
   "metadata": {
    "id": "a1xASHAkc46n"
   },
   "source": [
    "The prompt below results in an open-ended response, useful for brainstorming, but response is highly variable."
   ]
  },
  {
   "cell_type": "code",
   "execution_count": 16,
   "metadata": {
    "id": "nPfXQWIacwRf",
    "tags": []
   },
   "outputs": [
    {
     "data": {
      "text/markdown": [
       "Okay, here are a few programming activity recommendations tailored for a high school student, categorized by skill level and interests. I'll provide a brief description, required skills, potential benefits, and some example project ideas.\n",
       "\n",
       "**Beginner-Friendly (Focus on Fundamentals)**\n",
       "\n",
       "*   **Activity:** Text-Based Adventure Game\n",
       "    *   **Description:**  Create a simple game where the user interacts with the program through text commands (e.g., \"go north,\" \"look around,\" \"take sword\").  The game presents a narrative and challenges based on the user's input.\n",
       "    *   **Required Skills:**\n",
       "        *   Basic input/output (getting user input, printing text)\n",
       "        *   Variables and data types (strings, integers, booleans)\n",
       "        *   Conditional statements (if/else)\n",
       "        *   Loops (while loops for game loop)\n",
       "        *   (Optional) Lists/arrays to store inventory or locations.\n",
       "    *   **Benefits:**\n",
       "        *   Solidifies fundamental programming concepts.\n",
       "        *   Develops logical thinking and problem-solving skills.\n",
       "        *   Encourages creativity and storytelling.\n",
       "        *   Relatively easy to get started with in most languages.\n",
       "    *   **Example Projects:**\n",
       "        *   A simple dungeon crawler where the player finds treasure and fights monsters.\n",
       "        *   A mystery game where the player interrogates suspects to solve a crime.\n",
       "        *   A choose-your-own-adventure style story.\n",
       "    *   **Languages:** Python, JavaScript, C++, Java (Python is often recommended for beginners)\n",
       "\n",
       "*   **Activity:** Simple Calculator\n",
       "    *   **Description:** Build a calculator that can perform basic arithmetic operations (addition, subtraction, multiplication, division).  You can extend it with more advanced functions (square root, exponentiation, etc.).\n",
       "    *   **Required Skills:**\n",
       "        *   Input/output (getting numbers and operations from the user)\n",
       "        *   Variables and data types (numbers)\n",
       "        *   Conditional statements (if/else or switch statements to handle different operations)\n",
       "        *   Functions (to encapsulate the different operations)\n",
       "    *   **Benefits:**\n",
       "        *   Reinforces arithmetic operations and data types.\n",
       "        *   Introduces the concept of functions.\n",
       "        *   Provides a practical application of programming skills.\n",
       "    *   **Example Projects:**\n",
       "        *   A basic calculator with +, -, *, / operations.\n",
       "        *   A calculator that can handle exponents and square roots.\n",
       "        *   A calculator that can convert between different units (e.g., Celsius to Fahrenheit).\n",
       "    *   **Languages:** Python, JavaScript, C++, Java, C#\n",
       "\n",
       "**Intermediate (Building on Fundamentals, Introducing New Concepts)**\n",
       "\n",
       "*   **Activity:** To-Do List Application\n",
       "    *   **Description:** Create a program that allows users to add, remove, and view items on a to-do list. The data should be persistent (saved to a file) so that the list is not lost when the program closes.\n",
       "    *   **Required Skills:**\n",
       "        *   All skills from the beginner level.\n",
       "        *   File input/output (reading and writing data to files).\n",
       "        *   Lists or arrays (to store the to-do items).\n",
       "        *   Functions (to organize the code).\n",
       "        *   (Optional) Basic GUI (graphical user interface) for a more user-friendly experience.\n",
       "    *   **Benefits:**\n",
       "        *   Introduces file handling and data persistence.\n",
       "        *   Provides a practical application of data structures.\n",
       "        *   Can be extended with features like priorities, due dates, and categories.\n",
       "    *   **Example Projects:**\n",
       "        *   A command-line based to-do list application.\n",
       "        *   A to-do list application with a simple GUI (using libraries like Tkinter in Python, or Swing in Java).\n",
       "    *   **Languages:** Python, Java, C++, C#, JavaScript (with Node.js for file I/O or using browser storage)\n",
       "\n",
       "*   **Activity:** Number Guessing Game\n",
       "    *   **Description:** The computer generates a random number, and the user has to guess it within a certain number of attempts. The program provides feedback (higher or lower) after each guess.\n",
       "    *   **Required Skills:**\n",
       "        *   All skills from the beginner level.\n",
       "        *   Random number generation.\n",
       "        *   Loops (while loops for the guessing process).\n",
       "    *   **Benefits:**\n",
       "        *   Reinforces conditional statements and loops.\n",
       "        *   Introduces the concept of random numbers.\n",
       "        *   Can be extended with features like difficulty levels and score tracking.\n",
       "    *   **Example Projects:**\n",
       "        *   A simple number guessing game with a fixed range (e.g., 1-100).\n",
       "        *   A game with multiple difficulty levels, each with a different range and number of attempts.\n",
       "    *   **Languages:** Python, Java, C++, C#, JavaScript\n",
       "\n",
       "**Advanced (Challenging, Exploring More Complex Topics)**\n",
       "\n",
       "*   **Activity:** Simple Web Scraper\n",
       "    *   **Description:** Write a program that automatically extracts data from a website.  For example, you could scrape product prices from an e-commerce site, headlines from a news website, or weather information. *Be mindful of website terms of service and robot.txt files, and avoid scraping excessively to prevent overloading the site.*\n",
       "    *   **Required Skills:**\n",
       "        *   All skills from the intermediate level.\n",
       "        *   Understanding of HTML structure.\n",
       "        *   HTTP requests (making requests to web servers).\n",
       "        *   Parsing HTML (using libraries like BeautifulSoup in Python).\n",
       "        *   Regular expressions (optional, for more advanced data extraction).\n",
       "    *   **Benefits:**\n",
       "        *   Introduces web technologies and networking concepts.\n",
       "        *   Develops skills in data extraction and manipulation.\n",
       "        *   Provides a powerful tool for automating tasks.\n",
       "    *   **Example Projects:**\n",
       "        *   A program that scrapes product prices from Amazon and sends you an email when the price drops.\n",
       "        *   A program that scrapes headlines from a news website and displays them in a terminal.\n",
       "    *   **Languages:** Python (with libraries like `requests` and `BeautifulSoup`), JavaScript (with Node.js and libraries like `axios` and `cheerio`)\n",
       "\n",
       "*   **Activity:**  Game of Life\n",
       "    *   **Description:** Implement Conway's Game of Life, a cellular automaton that simulates the evolution of a population of cells based on simple rules.\n",
       "    *   **Required Skills:**\n",
       "        *   All skills from the intermediate level.\n",
       "        *   Two-dimensional arrays (to represent the grid of cells).\n",
       "        *   Nested loops (to iterate over the grid).\n",
       "        *   Understanding of algorithms and simulation.\n",
       "        *   (Optional) GUI for visualization.\n",
       "    *   **Benefits:**\n",
       "        *   Develops strong algorithmic thinking and problem-solving skills.\n",
       "        *   Introduces the concept of cellular automata and simulation.\n",
       "        *   Can be extended with different rules and visualizations.\n",
       "    *   **Example Projects:**\n",
       "        *   A command-line based Game of Life simulation.\n",
       "        *   A Game of Life simulation with a GUI (using libraries like Pygame in Python, or Swing in Java).\n",
       "    *   **Languages:** Python, Java, C++, C#, JavaScript\n",
       "\n",
       "**Choosing the Right Activity**\n",
       "\n",
       "*   **Consider your interests:** Choose an activity that you find engaging. This will keep you motivated and make the learning process more enjoyable.\n",
       "*   **Start small:** Don't try to tackle a huge project right away. Break it down into smaller, manageable tasks.\n",
       "*   **Don't be afraid to ask for help:** If you get stuck, don't hesitate to ask for help from teachers, classmates, or online forums.\n",
       "*   **Focus on learning:** The goal is to learn and improve your skills, not just to complete the project.\n",
       "*   **Document your code:**  Write comments to explain what your code does. This will help you understand it later and will make it easier for others to read.\n",
       "\n",
       "**Resources:**\n",
       "\n",
       "*   **Online coding platforms:** Codecademy, freeCodeCamp, Khan Academy, Coursera, edX, Udemy\n",
       "*   **Programming communities:** Stack Overflow, Reddit (subreddits like r/learnprogramming, r/programming)\n",
       "*   **Language-specific documentation:** The official documentation for your chosen programming language is an invaluable resource.\n",
       "\n",
       "No matter which activity you choose, remember to have fun and be patient. Programming takes time and practice, but it can be a very rewarding skill to learn. Good luck!\n"
      ],
      "text/plain": [
       "<IPython.core.display.Markdown object>"
      ]
     },
     "metadata": {},
     "output_type": "display_data"
    }
   ],
   "source": [
    "prompt = \"I'm a high school student. Recommend me a programming activity to improve my skills.\"\n",
    "\n",
    "response = client.models.generate_content(model=MODEL_ID, contents=prompt)\n",
    "display(Markdown(response.text))"
   ]
  },
  {
   "cell_type": "markdown",
   "metadata": {
    "id": "iAmm9wPYc_1o"
   },
   "source": [
    "#### Classification tasks reduces output variability"
   ]
  },
  {
   "cell_type": "markdown",
   "metadata": {
    "id": "VvRpK_0GdCpf"
   },
   "source": [
    "The prompt below results in a choice and may be useful if you want the output to be easier to control."
   ]
  },
  {
   "cell_type": "code",
   "execution_count": 17,
   "metadata": {
    "id": "kYDKh0r2dAqo",
    "tags": []
   },
   "outputs": [
    {
     "data": {
      "text/markdown": [
       "For a high school student, I strongly recommend learning **either Python (a) or JavaScript (b)** over Fortran (c). Here's a breakdown of why:\n",
       "\n",
       "**Python (a):  The All-Around Winner for Beginners**\n",
       "\n",
       "*   **Ease of Learning:** Python is known for its clear, readable syntax, which makes it beginner-friendly.  It reads almost like plain English, reducing the initial frustration of learning complex programming rules.\n",
       "*   **Versatility:**  Python is incredibly versatile.  You can use it for:\n",
       "    *   **Data Science & Analysis:**  A huge field! Analyzing data, creating visualizations, machine learning. Think analyzing social media trends, weather patterns, or sports statistics.\n",
       "    *   **Web Development (Backend):** Building the logic and databases behind websites.\n",
       "    *   **Game Development:**  Simple games using libraries like Pygame.\n",
       "    *   **Scripting & Automation:**  Automating repetitive tasks on your computer, like renaming files, downloading information, or sending emails.\n",
       "*   **Large Community & Resources:** A massive, supportive community means tons of online tutorials, forums, documentation, and libraries.  If you get stuck, there's almost always someone who's encountered the same problem and has a solution.\n",
       "*   **Relevance to Future Studies/Careers:**  Python is in high demand in many STEM fields (science, technology, engineering, mathematics) and related careers.  Learning it now will give you a significant advantage in college and beyond.\n",
       "\n",
       "**JavaScript (b): Web Development Focus & Dynamic Websites**\n",
       "\n",
       "*   **Web Development (Frontend):**  JavaScript is *essential* for creating interactive and dynamic websites.  It's what makes websites \"come alive\" with animations, user interactions, and dynamic content updates without reloading the page.\n",
       "*   **Frontend and Backend:** You can now use JavaScript for the backend with Node.js. So you only need to learn one language for your whole project.\n",
       "*   **Ubiquity:**  JavaScript runs in every web browser.  Your code will work on almost any device without requiring special installations.\n",
       "*   **Job Market:**  JavaScript developers are in high demand.  If you're interested in a career in web development, JavaScript is a must-learn.\n",
       "*   **Interactive Projects:**  It's easy to create visually appealing and interactive projects with JavaScript, which can be very motivating for learning. Think simple games, interactive quizzes, or website animations.\n",
       "*   **Can be steeper learning curve than Python:** Javascript has some quirks.\n",
       "\n",
       "**Fortran (c):  Specialized and Niche (Generally Not Recommended for a High School Student)**\n",
       "\n",
       "*   **Scientific Computing & Engineering:** Fortran is primarily used in scientific computing, engineering simulations, and high-performance computing (e.g., weather forecasting, climate modeling, fluid dynamics).\n",
       "*   **Legacy Code:**  A lot of existing scientific software is written in Fortran, so it's still used to maintain and update these programs.\n",
       "*   **Not Beginner-Friendly:**  Fortran's syntax can be more complex and less intuitive than Python or JavaScript.\n",
       "*   **Limited Versatility:**  Its applications are much more specialized and less relevant to general-purpose programming than Python or JavaScript.\n",
       "*   **Smaller Community:** The community is smaller than Python's or JavaScript's, making it harder to find help and resources.\n",
       "\n",
       "**In summary:**\n",
       "\n",
       "*   **Start with Python if:** You want a versatile language that's easy to learn, with applications in data science, scripting, web development, and more. It's a great all-around choice for exploring the world of programming.\n",
       "\n",
       "*   **Choose JavaScript if:** You're specifically interested in web development and want to create interactive websites.\n",
       "\n",
       "*   **Avoid Fortran (for now) if:**  You're just starting out and want a language with broader applicability and easier learning curve.  You can always learn Fortran later if you find yourself working in a field that requires it.\n",
       "\n",
       "**My recommendation is to start with Python.** It's more beginner-friendly, has a wider range of applications that you might find interesting as a high school student, and has a huge community to support you.  Once you have a good grasp of programming fundamentals with Python, you can easily pick up JavaScript or other languages later.\n",
       "\n",
       "Good luck with your programming journey!\n"
      ],
      "text/plain": [
       "<IPython.core.display.Markdown object>"
      ]
     },
     "metadata": {},
     "output_type": "display_data"
    }
   ],
   "source": [
    "prompt = \"\"\"I'm a high school student. Which of these activities do you suggest and why:\n",
    "a) learn Python\n",
    "b) learn JavaScript\n",
    "c) learn Fortran\n",
    "\"\"\"\n",
    "\n",
    "response = client.models.generate_content(model=MODEL_ID, contents=prompt)\n",
    "display(Markdown(response.text))"
   ]
  },
  {
   "cell_type": "markdown",
   "metadata": {
    "id": "iTd60b1GdIsx"
   },
   "source": [
    "### Improve response quality by including examples"
   ]
  },
  {
   "cell_type": "markdown",
   "metadata": {
    "id": "yJi44NejdJYE"
   },
   "source": [
    "Another way to improve response quality is to add examples in your prompt. The LLM learns in-context from the examples on how to respond. Typically, one to five examples (shots) are enough to improve the quality of responses. Including too many examples can cause the model to over-fit the data and reduce the quality of responses.\n",
    "\n",
    "Similar to classical model training, the quality and distribution of the examples is very important. Pick examples that are representative of the scenarios that you need the model to learn, and keep the distribution of the examples (e.g. number of examples per class in the case of classification) aligned with your actual distribution."
   ]
  },
  {
   "cell_type": "markdown",
   "metadata": {
    "id": "sMbLginWdOKs"
   },
   "source": [
    "#### Zero-shot prompt"
   ]
  },
  {
   "cell_type": "markdown",
   "metadata": {
    "id": "Crh2Loi2dQ0v"
   },
   "source": [
    "Below is an example of zero-shot prompting, where you don't provide any examples to the LLM within the prompt itself."
   ]
  },
  {
   "cell_type": "code",
   "execution_count": 18,
   "metadata": {
    "id": "-7myRc-SdTQ4",
    "tags": []
   },
   "outputs": [
    {
     "data": {
      "text/markdown": [
       "Sentiment: Positive\n"
      ],
      "text/plain": [
       "<IPython.core.display.Markdown object>"
      ]
     },
     "metadata": {},
     "output_type": "display_data"
    }
   ],
   "source": [
    "prompt = \"\"\"Decide whether a Tweet's sentiment is positive, neutral, or negative.\n",
    "\n",
    "Tweet: I loved the new YouTube video you made!\n",
    "Sentiment:\n",
    "\"\"\"\n",
    "\n",
    "response = client.models.generate_content(model=MODEL_ID, contents=prompt)\n",
    "display(Markdown(response.text))"
   ]
  },
  {
   "cell_type": "markdown",
   "metadata": {
    "id": "ucRtPn9SdL64"
   },
   "source": [
    "#### One-shot prompt"
   ]
  },
  {
   "cell_type": "markdown",
   "metadata": {
    "id": "rs0gQH2vdYBi"
   },
   "source": [
    "Below is an example of one-shot prompting, where you provide one example to the LLM within the prompt to give some guidance on what type of response you want."
   ]
  },
  {
   "cell_type": "code",
   "execution_count": 19,
   "metadata": {
    "id": "iEq-KxGYdaT5",
    "tags": []
   },
   "outputs": [
    {
     "data": {
      "text/markdown": [
       "Sentiment: negative\n"
      ],
      "text/plain": [
       "<IPython.core.display.Markdown object>"
      ]
     },
     "metadata": {},
     "output_type": "display_data"
    }
   ],
   "source": [
    "prompt = \"\"\"Decide whether a Tweet's sentiment is positive, neutral, or negative.\n",
    "\n",
    "Tweet: I loved the new YouTube video you made!\n",
    "Sentiment: positive\n",
    "\n",
    "Tweet: That was awful. Super boring 😠\n",
    "Sentiment:\n",
    "\"\"\"\n",
    "\n",
    "response = client.models.generate_content(model=MODEL_ID, contents=prompt)\n",
    "display(Markdown(response.text))"
   ]
  },
  {
   "cell_type": "markdown",
   "metadata": {
    "id": "JnKLjJzmdfL_"
   },
   "source": [
    "#### Few-shot prompt"
   ]
  },
  {
   "cell_type": "markdown",
   "metadata": {
    "id": "6Zv-9F5OdgI_"
   },
   "source": [
    "Below is an example of few-shot prompting, where you provide a few examples to the LLM within the prompt to give some guidance on what type of response you want."
   ]
  },
  {
   "cell_type": "code",
   "execution_count": 20,
   "metadata": {
    "id": "u37P9tG4dk9S",
    "tags": []
   },
   "outputs": [
    {
     "data": {
      "text/markdown": [
       "Sentiment: positive\n"
      ],
      "text/plain": [
       "<IPython.core.display.Markdown object>"
      ]
     },
     "metadata": {},
     "output_type": "display_data"
    }
   ],
   "source": [
    "prompt = \"\"\"Decide whether a Tweet's sentiment is positive, neutral, or negative.\n",
    "\n",
    "Tweet: I loved the new YouTube video you made!\n",
    "Sentiment: positive\n",
    "\n",
    "Tweet: That was awful. Super boring 😠\n",
    "Sentiment: negative\n",
    "\n",
    "Tweet: Something surprised me about this video - it was actually original. It was not the same old recycled stuff that I always see. Watch it - you will not regret it.\n",
    "Sentiment:\n",
    "\"\"\"\n",
    "\n",
    "response = client.models.generate_content(model=MODEL_ID, contents=prompt)\n",
    "display(Markdown(response.text))"
   ]
  },
  {
   "cell_type": "markdown",
   "metadata": {
    "id": "wDMD3xb2dvX6"
   },
   "source": [
    "#### Choosing between zero-shot, one-shot, few-shot prompting methods"
   ]
  },
  {
   "cell_type": "markdown",
   "metadata": {
    "id": "s92W0YpNdxJp"
   },
   "source": [
    "Which prompt technique to use will solely depends on your goal. The zero-shot prompts are more open-ended and can give you creative answers, while one-shot and few-shot prompts teach the model how to behave so you can get more predictable answers that are consistent with the examples provided."
   ]
  }
 ],
 "metadata": {
  "colab": {
   "name": "intro_prompt_design.ipynb",
   "toc_visible": true
  },
  "environment": {
   "kernel": "conda-base-py",
   "name": "workbench-notebooks.m129",
   "type": "gcloud",
   "uri": "us-docker.pkg.dev/deeplearning-platform-release/gcr.io/workbench-notebooks:m129"
  },
  "kernelspec": {
   "display_name": "Python 3 (ipykernel) (Local)",
   "language": "python",
   "name": "conda-base-py"
  },
  "language_info": {
   "codemirror_mode": {
    "name": "ipython",
    "version": 3
   },
   "file_extension": ".py",
   "mimetype": "text/x-python",
   "name": "python",
   "nbconvert_exporter": "python",
   "pygments_lexer": "ipython3",
   "version": "3.10.16"
  }
 },
 "nbformat": 4,
 "nbformat_minor": 4
}
