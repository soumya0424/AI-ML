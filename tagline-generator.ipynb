{
 "cells": [
  {
   "cell_type": "code",
   "execution_count": 2,
   "id": "275d1c40-ad9b-4b86-a6c9-345fbdd39afd",
   "metadata": {
    "tags": []
   },
   "outputs": [
    {
     "name": "stdout",
     "output_type": "stream",
     "text": [
      "Here are 5 taglines for the hiking backpack, focusing on durability, waterproofness, multiple compartments, and the target audience of reliable, prepared, and confident hikers:\n",
      "\n",
      "1.  **Built to Explore. Ready for Anything.** (Focuses on preparedness and durability)\n",
      "2.  **Hike Further. Stay Dry. Pack Smart.** (Highlights key features and benefits concisely)\n",
      "3.  **Your Gear. Your Adventure. Zero Worries.** (Emphasizes confidence and control)\n",
      "4.  **The Reliable Pack for Unforgettable Trails.** (Connects dependability with memorable experiences)\n",
      "5.  **Waterproof. Durable. Organized. Conquer the Elements.** (Directly addresses the backpack's key attributes and empowers the user)\n"
     ]
    }
   ],
   "source": [
    "from google import genai\n",
    "from google.genai import types\n",
    "import base64\n",
    "\n",
    "def generate():\n",
    "  client = genai.Client(\n",
    "      vertexai=True,\n",
    "      project=\"qwiklabs-gcp-04-0704f53732be\",\n",
    "      location=\"us-west1\",\n",
    "  )\n",
    "\n",
    "  msg1_text1 = types.Part.from_text(text=\"\"\"Generate 5 compelling taglines for a hiking backpack with the following characteristics:\n",
    "\n",
    "Key Product Attributes:\n",
    "Durable construction\n",
    "Waterproof material\n",
    "Multiple compartments\n",
    "\n",
    "Target Audience:\n",
    "Hikers aged 25-45\n",
    "Outdoor enthusiasts who value reliability\n",
    "Weekend adventurers\n",
    "\n",
    "Desired Emotional Response:\n",
    "Prepared\n",
    "Confident\n",
    "\n",
    "Brand Voice:\n",
    "Dependable\n",
    "Minimalist\"\"\")\n",
    "  si_text1 = \"\"\"Cymbal Direct is partnering with an outdoor gear retailer. They're launching a new line of products designed to encourage young people to explore the outdoors. Help them create catchy taglines for this product line.\n",
    " \n",
    " last input : specifically request that the tagline includes the keyword nature.\n",
    "  \"\"\"\n",
    "\n",
    "  model = \"gemini-2.0-flash-001\"\n",
    "  contents = [\n",
    "    types.Content(\n",
    "      role=\"user\",\n",
    "      parts=[\n",
    "        msg1_text1\n",
    "      ]\n",
    "    ),\n",
    "  ]\n",
    "  generate_content_config = types.GenerateContentConfig(\n",
    "    temperature = 1,\n",
    "    top_p = 0.95,\n",
    "    max_output_tokens = 8192,\n",
    "    response_modalities = [\"TEXT\"],\n",
    "    safety_settings = [types.SafetySetting(\n",
    "      category=\"HARM_CATEGORY_HATE_SPEECH\",\n",
    "      threshold=\"OFF\"\n",
    "    ),types.SafetySetting(\n",
    "      category=\"HARM_CATEGORY_DANGEROUS_CONTENT\",\n",
    "      threshold=\"OFF\"\n",
    "    ),types.SafetySetting(\n",
    "      category=\"HARM_CATEGORY_SEXUALLY_EXPLICIT\",\n",
    "      threshold=\"OFF\"\n",
    "    ),types.SafetySetting(\n",
    "      category=\"HARM_CATEGORY_HARASSMENT\",\n",
    "      threshold=\"OFF\"\n",
    "    )],\n",
    "    system_instruction=[types.Part.from_text(text=si_text1)],\n",
    "  )\n",
    "\n",
    "  for chunk in client.models.generate_content_stream(\n",
    "    model = model,\n",
    "    contents = contents,\n",
    "    config = generate_content_config,\n",
    "    ):\n",
    "    print(chunk.text, end=\"\")\n",
    "\n",
    "generate()"
   ]
  },
  {
   "cell_type": "code",
   "execution_count": null,
   "id": "6e1c21dc-f678-4dff-8c5f-3e8efa19cc4d",
   "metadata": {},
   "outputs": [],
   "source": []
  }
 ],
 "metadata": {
  "environment": {
   "kernel": "conda-base-py",
   "name": "workbench-notebooks.m129",
   "type": "gcloud",
   "uri": "us-docker.pkg.dev/deeplearning-platform-release/gcr.io/workbench-notebooks:m129"
  },
  "kernelspec": {
   "display_name": "Python 3 (ipykernel) (Local)",
   "language": "python",
   "name": "conda-base-py"
  },
  "language_info": {
   "codemirror_mode": {
    "name": "ipython",
    "version": 3
   },
   "file_extension": ".py",
   "mimetype": "text/x-python",
   "name": "python",
   "nbconvert_exporter": "python",
   "pygments_lexer": "ipython3",
   "version": "3.10.16"
  }
 },
 "nbformat": 4,
 "nbformat_minor": 5
}
