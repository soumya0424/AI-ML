{
 "cells": [
  {
   "cell_type": "code",
   "execution_count": 1,
   "id": "824ff1d8-e907-48a8-a271-ed8b028704ca",
   "metadata": {},
   "outputs": [
    {
     "name": "stdout",
     "output_type": "stream",
     "text": [
      "Loading Whisper model...\n"
     ]
    },
    {
     "name": "stderr",
     "output_type": "stream",
     "text": [
      "100%|███████████████████████████████████████| 139M/139M [01:20<00:00, 1.81MiB/s]\n"
     ]
    },
    {
     "name": "stdout",
     "output_type": "stream",
     "text": [
      "✅ Whisper model loaded!\n"
     ]
    }
   ],
   "source": [
    "# Cell 1: Install and Import Whisper\n",
    "import whisper\n",
    "import numpy as np\n",
    "import sounddevice as sd\n",
    "from IPython.display import display, clear_output\n",
    "import ipywidgets as widgets\n",
    "import threading\n",
    "import queue\n",
    "import time\n",
    "\n",
    "# Load Whisper model (base model supports multilingual)\n",
    "print(\"Loading Whisper model...\")\n",
    "whisper_model = whisper.load_model(\"base\")  # Supports EN, ES, FR\n",
    "print(\"✅ Whisper model loaded!\")\n"
   ]
  },
  {
   "cell_type": "code",
   "execution_count": 3,
   "id": "b6888990-7ae6-4547-a320-3c951b70b44a",
   "metadata": {},
   "outputs": [
    {
     "data": {
      "application/vnd.jupyter.widget-view+json": {
       "model_id": "b0d73ef1f2ee4ce994524ab6d66b6577",
       "version_major": 2,
       "version_minor": 0
      },
      "text/plain": [
       "VBox(children=(HBox(children=(Button(description='Start', style=ButtonStyle()), Button(description='Stop', sty…"
      ]
     },
     "metadata": {},
     "output_type": "display_data"
    },
    {
     "name": "stderr",
     "output_type": "stream",
     "text": [
      "100%|███████████████████████████████████████| 461M/461M [04:18<00:00, 1.87MiB/s]\n"
     ]
    },
    {
     "data": {
      "application/vnd.jupyter.widget-view+json": {
       "model_id": "c21ea5321ca64f609563f6f1db9632a1",
       "version_major": 2,
       "version_minor": 0
      },
      "text/plain": [
       "VBox(children=(HBox(children=(Button(description='Start', style=ButtonStyle()), Button(description='Stop', sty…"
      ]
     },
     "metadata": {},
     "output_type": "display_data"
    }
   ],
   "source": [
    "# Cell 2: Real-time Transcription Class\n",
    "from ipywidgets import VBox, HBox, Button, HTML, Output\n",
    "\n",
    "import sounddevice as sd\n",
    "import whisper\n",
    "from ipywidgets import VBox, HBox, Button, HTML, Output\n",
    "\n",
    "class RealTimeTranscriber:\n",
    "    def __init__(self, model, sample_rate=16000, chunk_duration=1.0):\n",
    "        self.model = model\n",
    "        self.sample_rate = sample_rate\n",
    "        self.chunk_duration = chunk_duration\n",
    "        self.stream = None\n",
    "        self.is_recording = False\n",
    "        self.transcript_output = Output()\n",
    "        # UI elements\n",
    "        self.start_btn = Button(description=\"Start\")\n",
    "        self.stop_btn = Button(description=\"Stop\")\n",
    "        # Create UI\n",
    "        self.create_ui()\n",
    "\n",
    "    def create_ui(self):\n",
    "        self.start_btn.on_click(self.start_recording)\n",
    "        self.stop_btn.on_click(self.stop_recording)\n",
    "        self.ui = VBox([\n",
    "            HBox([self.start_btn, self.stop_btn]),\n",
    "            HTML(\"<h3>Live Transcript:</h3>\"),\n",
    "            self.transcript_output\n",
    "        ])\n",
    "\n",
    "    def start_recording(self, _):\n",
    "        if self.is_recording:\n",
    "            return\n",
    "        self.is_recording = True\n",
    "        self.transcript_output.clear_output()\n",
    "        self.stream = sd.InputStream(\n",
    "            samplerate=self.sample_rate,\n",
    "            channels=1,\n",
    "            callback=self.audio_callback\n",
    "        )\n",
    "        self.stream.start()\n",
    "\n",
    "    def stop_recording(self, _):\n",
    "        if not self.is_recording:\n",
    "            return\n",
    "        self.is_recording = False\n",
    "        if self.stream is not None:\n",
    "            self.stream.stop()\n",
    "            self.stream.close()\n",
    "            self.stream = None\n",
    "\n",
    "    def audio_callback(self, indata, frames, time, status):\n",
    "        if not self.is_recording:\n",
    "            return\n",
    "        audio_chunk = indata[:, 0]\n",
    "        result = self.model.transcribe(audio_chunk, fp16=False)\n",
    "        with self.transcript_output:\n",
    "            print(result[\"text\"].strip())\n",
    "    \n",
    "    def start_recording(self, btn):\n",
    "        \"\"\"Start real-time recording and transcription\"\"\"\n",
    "        self.recording = True\n",
    "        self.start_btn.disabled = True\n",
    "        self.stop_btn.disabled = False\n",
    "        \n",
    "        with self.transcript_output:\n",
    "            clear_output()\n",
    "            print(\"🎤 Recording started... Speak into your microphone!\")\n",
    "        \n",
    "        # Start audio stream\n",
    "        self.stream = sd.InputStream(\n",
    "            callback=self.audio_callback,\n",
    "            channels=1,\n",
    "            samplerate=self.sample_rate,\n",
    "            blocksize=self.chunk_samples\n",
    "        )\n",
    "        self.stream.start()\n",
    "        \n",
    "        # Start transcription thread\n",
    "        self.transcription_thread = threading.Thread(target=self.transcribe_loop)\n",
    "        self.transcription_thread.start()\n",
    "    \n",
    "    def stop_recording(self, btn):\n",
    "        \"\"\"Stop recording and transcription\"\"\"\n",
    "        self.recording = False\n",
    "        self.start_btn.disabled = False\n",
    "        self.stop_btn.disabled = True\n",
    "        \n",
    "        if hasattr(self, 'stream'):\n",
    "            self.stream.stop()\n",
    "            self.stream.close()\n",
    "            \n",
    "        with self.transcript_output:\n",
    "            print(\"\\n⏹️ Recording stopped.\")\n",
    "    \n",
    "    def transcribe_loop(self):\n",
    "        \"\"\"Continuously transcribe audio chunks\"\"\"\n",
    "        full_transcript = \"\"\n",
    "        \n",
    "        while self.recording:\n",
    "            try:\n",
    "                # Get audio chunk from queue\n",
    "                if not self.audio_queue.empty():\n",
    "                    audio_chunk = self.audio_queue.get(timeout=1)\n",
    "                    \n",
    "                    # Ensure audio is long enough for Whisper\n",
    "                    if len(audio_chunk) >= self.chunk_samples:\n",
    "                        # Transcribe with Whisper\n",
    "                        result = self.model.transcribe(\n",
    "                            audio_chunk,\n",
    "                            fp16=False,\n",
    "                            language=None  # Auto-detect language\n",
    "                        )\n",
    "                        \n",
    "                        text = result[\"text\"].strip()\n",
    "                        language = result[\"language\"]\n",
    "                        \n",
    "                        if text:  # Only update if we got text\n",
    "                            full_transcript += f\"[{language.upper()}] {text} \"\n",
    "                            \n",
    "                            with self.transcript_output:\n",
    "                                clear_output(wait=True)\n",
    "                                print(\"📝 Live Transcript:\")\n",
    "                                print(\"-\" * 50)\n",
    "                                print(full_transcript)\n",
    "                                print(\"-\" * 50)\n",
    "                                print(f\"Detected Language: {language.upper()}\")\n",
    "                        \n",
    "                else:\n",
    "                    time.sleep(0.1)  # Small delay if no audio\n",
    "                    \n",
    "            except queue.Empty:\n",
    "                continue\n",
    "            except Exception as e:\n",
    "                with self.transcript_output:\n",
    "                    print(f\"❌ Transcription error: {e}\")\n",
    "\n",
    "# Create and display the transcriber\n",
    "transcriber = RealTimeTranscriber(whisper_model)\n",
    "display(transcriber.ui)\n",
    "\n",
    "# Load Whisper model and initialize transcriber\n",
    "whisper_model = whisper.load_model(\"small\")\n",
    "transcriber = RealTimeTranscriber(whisper_model)\n",
    "display(transcriber.ui)"
   ]
  },
  {
   "cell_type": "code",
   "execution_count": null,
   "id": "eec59ea0-de2f-4188-b652-54680e426430",
   "metadata": {},
   "outputs": [],
   "source": []
  }
 ],
 "metadata": {
  "kernelspec": {
   "display_name": "Python 3 (ipykernel)",
   "language": "python",
   "name": "python3"
  },
  "language_info": {
   "codemirror_mode": {
    "name": "ipython",
    "version": 3
   },
   "file_extension": ".py",
   "mimetype": "text/x-python",
   "name": "python",
   "nbconvert_exporter": "python",
   "pygments_lexer": "ipython3",
   "version": "3.13.5"
  }
 },
 "nbformat": 4,
 "nbformat_minor": 5
}
